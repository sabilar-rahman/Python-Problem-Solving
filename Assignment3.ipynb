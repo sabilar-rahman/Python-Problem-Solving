{
 "cells": [
  {
   "cell_type": "markdown",
   "metadata": {},
   "source": [
    "Second challenge \n",
    "\n",
    "-create a single list that holds 5 colors.\n",
    "\n",
    "red,blue,green,pink,purple\n",
    "\n",
    "delete the 0 index from the list \n",
    "delete the element with the value of\"purple\"\n",
    "append and element with the value \"white\" as the end of the list"
   ]
  },
  {
   "cell_type": "code",
   "execution_count": 6,
   "metadata": {},
   "outputs": [
    {
     "name": "stdout",
     "output_type": "stream",
     "text": [
      "['Blue', 'Green', 'Pink', 'White']\n"
     ]
    }
   ],
   "source": [
    "colorList = [\"Red\",\"Blue\",\"Green\" , \"Pink\" , \"Purple\"]\n",
    "\n",
    "colorList.pop(0)\n",
    "\n",
    "colorList.remove(\"Purple\")\n",
    "colorList.append(\"White\")\n",
    "print(colorList)"
   ]
  }
 ],
 "metadata": {
  "kernelspec": {
   "display_name": "Python 3",
   "language": "python",
   "name": "python3"
  },
  "language_info": {
   "codemirror_mode": {
    "name": "ipython",
    "version": 3
   },
   "file_extension": ".py",
   "mimetype": "text/x-python",
   "name": "python",
   "nbconvert_exporter": "python",
   "pygments_lexer": "ipython3",
   "version": "3.13.2"
  }
 },
 "nbformat": 4,
 "nbformat_minor": 2
}
