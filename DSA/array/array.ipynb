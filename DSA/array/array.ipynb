{
 "cells": [
  {
   "cell_type": "markdown",
   "metadata": {},
   "source": [
    "array max val  "
   ]
  },
  {
   "cell_type": "code",
   "execution_count": 7,
   "metadata": {},
   "outputs": [
    {
     "name": "stdout",
     "output_type": "stream",
     "text": [
      "13\n"
     ]
    }
   ],
   "source": [
    "int_list = [1, 2, 3, 4, 5, 6, 7, 8, 9, 10, 11, 12, 13]\n",
    "\n",
    "max_value = int_list[0]  # প্রথম উপাদানকে সবচেয়ে বড় ধরে নিচ্ছি\n",
    "for num in int_list:  # লিস্টের প্রতিটি উপাদান নিয়ে লুপ চালানো হচ্ছে\n",
    "    if num > max_value:  # যদি বর্তমান সংখ্যা আগের থেকে বড় হয়\n",
    "        max_value = num  # তাহলে সেটাই নতুন বড় সংখ্যা হবে\n",
    "\n",
    "print(max_value)  # সর্বোচ্চ মান প্রিন্ট করলাম\n"
   ]
  }
 ],
 "metadata": {
  "kernelspec": {
   "display_name": "Python 3",
   "language": "python",
   "name": "python3"
  },
  "language_info": {
   "codemirror_mode": {
    "name": "ipython",
    "version": 3
   },
   "file_extension": ".py",
   "mimetype": "text/x-python",
   "name": "python",
   "nbconvert_exporter": "python",
   "pygments_lexer": "ipython3",
   "version": "3.13.2"
  }
 },
 "nbformat": 4,
 "nbformat_minor": 2
}
