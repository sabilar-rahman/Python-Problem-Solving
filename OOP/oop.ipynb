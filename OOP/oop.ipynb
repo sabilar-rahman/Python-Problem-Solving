{
 "cells": [
  {
   "cell_type": "code",
   "execution_count": 39,
   "metadata": {},
   "outputs": [
    {
     "name": "stdout",
     "output_type": "stream",
     "text": [
      "Roll:3609,GPA :3.39\n"
     ]
    }
   ],
   "source": [
    "class Student:\n",
    "    roll:\"\"\n",
    "    gpa:\"\"\n",
    "\n",
    "sabilar=Student()\n",
    "sabilar.gpa=3.39\n",
    "sabilar.roll=3609\n",
    "\n",
    "print(f\"Roll:{sabilar.roll},GPA :{sabilar.gpa}\")\n"
   ]
  },
  {
   "cell_type": "markdown",
   "metadata": {},
   "source": [
    "Methods"
   ]
  },
  {
   "cell_type": "code",
   "execution_count": 40,
   "metadata": {},
   "outputs": [
    {
     "name": "stdout",
     "output_type": "stream",
     "text": [
      "Roll:3609, gpa:3609\n"
     ]
    }
   ],
   "source": [
    "class Student:\n",
    "    roll:\"\"\n",
    "    gpa:\"\"\n",
    "\n",
    "    def setValue (self, roll,gpa):\n",
    "        self.roll =roll\n",
    "        self.gpa = gpa\n",
    "\n",
    "    def display(self):\n",
    "        print(f\"Roll:{self.roll}, gpa:{self.roll}\")\n",
    "\n",
    "sabilar=Student()\n",
    "sabilar.setValue(3609,3.36)\n",
    "sabilar.display()\n"
   ]
  },
  {
   "cell_type": "code",
   "execution_count": 41,
   "metadata": {},
   "outputs": [
    {
     "name": "stdout",
     "output_type": "stream",
     "text": [
      "Roll: 3609, GPA: 3.36\n"
     ]
    }
   ],
   "source": [
    "class Student:\n",
    "    def __init__(self, roll, gpa):# constructor , object value set kora hoy\n",
    "        self.roll = roll\n",
    "        self.gpa = gpa\n",
    "\n",
    "    def display(self):\n",
    "        print(f\"Roll: {self.roll}, GPA: {self.gpa}\")\n",
    "\n",
    "sabilar = Student(3609, 3.36)\n",
    "sabilar.display()\n"
   ]
  },
  {
   "cell_type": "markdown",
   "metadata": {},
   "source": [
    "practice"
   ]
  },
  {
   "cell_type": "code",
   "execution_count": 42,
   "metadata": {},
   "outputs": [
    {
     "name": "stdout",
     "output_type": "stream",
     "text": [
      "Area= 25.0\n"
     ]
    }
   ],
   "source": [
    "class Triangle:\n",
    "    def __init__(self, base, height):\n",
    "        self.base = base\n",
    "        self.height = height\n",
    "\n",
    "    def calculate_area(self):\n",
    "        area = 0.5 * self.base * self.height\n",
    "        print(f\"Area=\",area)\n",
    "\n",
    "t1 = Triangle(10,5)\n",
    "t1.calculate_area()"
   ]
  },
  {
   "cell_type": "markdown",
   "metadata": {},
   "source": [
    "Inheritance = একটি ক্লাস এর বৈশিষ্ট অন্য একটি ক্লাস এ নিয়ে আসা হয় "
   ]
  },
  {
   "cell_type": "code",
   "execution_count": 43,
   "metadata": {},
   "outputs": [
    {
     "name": "stdout",
     "output_type": "stream",
     "text": [
      "you can message here\n"
     ]
    }
   ],
   "source": [
    "class Phone:\n",
    "    def call(self):\n",
    "        print(\"you can call\")\n",
    "\n",
    "    def message(self):\n",
    "        print(\"you can message here\")\n",
    "    \n",
    "class Samsung(Phone):\n",
    "    def photo(self):\n",
    "        print(\"you can take photo\")\n",
    "\n",
    "\n",
    "p =Samsung()\n",
    "p.message()"
   ]
  },
  {
   "cell_type": "code",
   "execution_count": 44,
   "metadata": {},
   "outputs": [
    {
     "name": "stdout",
     "output_type": "stream",
     "text": [
      "Tesla Model S\n"
     ]
    }
   ],
   "source": [
    "class Car:\n",
    "    def __init__(self,userBrand, userModel):\n",
    "        self.brand = userBrand\n",
    "        self.model = userModel\n",
    "\n",
    "    def full_name(self):\n",
    "        return f\"{self.brand} {self.model}\"\n",
    "    \n",
    "\n",
    "class ElectricCar(Car):\n",
    "    def __init__(self,brand, model,battery_size):\n",
    "        super().__init__(brand,model)\n",
    "        self.battery_size = battery_size\n",
    "\n",
    "\n",
    "my_car = ElectricCar(\"Tesla\",\"Model S\",\"85kwH\")\n",
    "print(my_car.full_name())"
   ]
  },
  {
   "cell_type": "markdown",
   "metadata": {},
   "source": [
    "Method Overriding"
   ]
  },
  {
   "cell_type": "code",
   "execution_count": 45,
   "metadata": {},
   "outputs": [
    {
     "name": "stdout",
     "output_type": "stream",
     "text": [
      "I am phone class\n",
      "I am Samsung class\n"
     ]
    }
   ],
   "source": [
    "class Phone:\n",
    "   def __init__(self):\n",
    "       print(\"I am phone class\")\n",
    "    \n",
    "class Samsung(Phone):\n",
    "     def __init__(self):\n",
    "       super().__init__()\n",
    "       print(\"I am Samsung class\")\n",
    "\n",
    "\n",
    "s= Samsung()"
   ]
  },
  {
   "cell_type": "markdown",
   "metadata": {},
   "source": [
    "Multileve Inheritance"
   ]
  },
  {
   "cell_type": "code",
   "execution_count": 46,
   "metadata": {},
   "outputs": [
    {
     "name": "stdout",
     "output_type": "stream",
     "text": [
      "Class A\n"
     ]
    }
   ],
   "source": [
    "class A:\n",
    "    def display(self):\n",
    "        print(\"Class A\")\n",
    "\n",
    "class B:\n",
    "    def display(self):\n",
    "        print(\"Class B\")\n",
    "\n",
    "class C(A,B):\n",
    "    \n",
    "    pass\n",
    "\n",
    "c= C()\n",
    "c.display()\n"
   ]
  },
  {
   "cell_type": "markdown",
   "metadata": {},
   "source": [
    " Abstraction"
   ]
  },
  {
   "cell_type": "code",
   "execution_count": 47,
   "metadata": {},
   "outputs": [
    {
     "name": "stdout",
     "output_type": "stream",
     "text": [
      "Woof! Woof!\n",
      "Meow!\n"
     ]
    }
   ],
   "source": [
    "from abc import ABC, abstractmethod\n",
    "\n",
    "# Abstract Base Class\n",
    "class Animal(ABC):\n",
    "    \n",
    "    @abstractmethod\n",
    "    def make_sound(self):\n",
    "        \"\"\"Abstract method that must be implemented by subclasses\"\"\"\n",
    "        pass\n",
    "\n",
    "# Subclass that implements the abstract method\n",
    "class Dog(Animal):\n",
    "    def make_sound(self):\n",
    "        return \"Woof! Woof!\"\n",
    "\n",
    "class Cat(Animal):\n",
    "    def make_sound(self):\n",
    "        return \"Meow!\"\n",
    "\n",
    "# Trying to instantiate `Animal` directly will raise an error\n",
    "# animal = Animal()  # ❌ TypeError: Can't instantiate abstract class Animal\n",
    "\n",
    "dog = Dog()\n",
    "print(dog.make_sound())  # ✅ Output: Woof! Woof!\n",
    "\n",
    "cat = Cat()\n",
    "print(cat.make_sound())  # ✅ Output: Meow!\n"
   ]
  },
  {
   "cell_type": "markdown",
   "metadata": {},
   "source": [
    "Polymorphism"
   ]
  },
  {
   "cell_type": "code",
   "execution_count": 48,
   "metadata": {},
   "outputs": [
    {
     "name": "stdout",
     "output_type": "stream",
     "text": [
      "Woof! Woof!\n",
      "Meow!\n",
      "Some generic sound\n"
     ]
    }
   ],
   "source": [
    "class Animal:\n",
    "    def make_sound(self):\n",
    "        return \"Some generic sound\"\n",
    "\n",
    "class Dog(Animal):\n",
    "    def make_sound(self):  # Overriding the parent method\n",
    "        return \"Woof! Woof!\"\n",
    "\n",
    "class Cat(Animal):\n",
    "    def make_sound(self):\n",
    "        return \"Meow!\"\n",
    "\n",
    "# Creating objects of subclasses\n",
    "animals = [Dog(), Cat(), Animal()]\n",
    "\n",
    "for animal in animals:\n",
    "    print(animal.make_sound())  \n"
   ]
  },
  {
   "cell_type": "code",
   "execution_count": 49,
   "metadata": {},
   "outputs": [
    {
     "name": "stdout",
     "output_type": "stream",
     "text": [
      "15\n",
      "35\n"
     ]
    }
   ],
   "source": [
    "class Calculator:\n",
    "    def add(self, a, b, c=0):  # ডিফল্ট ভ্যালু ব্যবহার করে ওভারলোডিং সিমুলেট করা\n",
    "        return a + b + c\n",
    "\n",
    "calc = Calculator()\n",
    "print(calc.add(5, 10))    # আউটপুট: 15\n",
    "print(calc.add(5, 10, 20)) # আউটপুট: 35\n"
   ]
  },
  {
   "cell_type": "code",
   "execution_count": 50,
   "metadata": {},
   "outputs": [
    {
     "name": "stdout",
     "output_type": "stream",
     "text": [
      "-1\n"
     ]
    }
   ],
   "source": [
    "def linear_search(arr, target):\n",
    "    for i in range(len(arr)):\n",
    "        if arr[i] == target:\n",
    "            return i  # ইনডেক্স রিটার্ন করবে\n",
    "    return -1  # না পেলে -1 রিটার্ন করবে\n",
    "\n",
    "arr = [10, 20, 30, 40, 50]\n",
    "target = 60\n",
    "print(linear_search(arr, target))  # আউটপুট: 2\n"
   ]
  },
  {
   "cell_type": "code",
   "execution_count": 51,
   "metadata": {},
   "outputs": [
    {
     "name": "stdout",
     "output_type": "stream",
     "text": [
      "2\n"
     ]
    }
   ],
   "source": [
    "def binary_search(arr, target):\n",
    "    left, right = 0, len(arr) - 1\n",
    "    while left <= right:\n",
    "        mid = (left + right) // 2\n",
    "        if arr[mid] == target:\n",
    "            return mid\n",
    "        elif arr[mid] < target:\n",
    "            left = mid + 1\n",
    "        else:\n",
    "            right = mid - 1\n",
    "    return -1\n",
    "\n",
    "arr = [10, 20, 30, 40, 50]\n",
    "target = 30\n",
    "print(binary_search(arr, target))  # আউটপুট: 2\n"
   ]
  },
  {
   "cell_type": "code",
   "execution_count": 52,
   "metadata": {},
   "outputs": [
    {
     "name": "stdout",
     "output_type": "stream",
     "text": [
      "True\n",
      "False\n"
     ]
    }
   ],
   "source": [
    "class TrieNode:\n",
    "    def __init__(self):\n",
    "        self.children = {}  # অক্ষর সংরক্ষণ করবে\n",
    "        self.end_of_word = False  # শব্দ শেষ হয়েছে কিনা\n",
    "\n",
    "class Trie:\n",
    "    def __init__(self):\n",
    "        self.root = TrieNode()\n",
    "\n",
    "    def insert(self, word):\n",
    "        node = self.root\n",
    "        for char in word:\n",
    "            if char not in node.children:\n",
    "                node.children[char] = TrieNode()\n",
    "            node = node.children[char]\n",
    "        node.end_of_word = True  # শেষ নোড চিহ্নিত করা\n",
    "\n",
    "    def search(self, word):\n",
    "        node = self.root\n",
    "        for char in word:\n",
    "            if char not in node.children:\n",
    "                return False\n",
    "            node = node.children[char]\n",
    "        return node.end_of_word  # শব্দের শেষ হলে True ফেরত দেবে\n",
    "\n",
    "trie = Trie()\n",
    "trie.insert(\"apple\")\n",
    "print(trie.search(\"apple\"))  # আউটপুট: True\n",
    "print(trie.search(\"app\"))    # আউটপুট: False\n"
   ]
  },
  {
   "cell_type": "code",
   "execution_count": 53,
   "metadata": {},
   "outputs": [
    {
     "name": "stdout",
     "output_type": "stream",
     "text": [
      "55\n"
     ]
    }
   ],
   "source": [
    "def fib(n):\n",
    "    if n <= 1:\n",
    "        return n\n",
    "    return fib(n-1) + fib(n-2)\n",
    "\n",
    "print(fib(10))  # আউটপুট: 55\n"
   ]
  },
  {
   "cell_type": "code",
   "execution_count": 18,
   "metadata": {},
   "outputs": [
    {
     "name": "stdout",
     "output_type": "stream",
     "text": [
      "hi Sabilar your average mark is= 60.0\n"
     ]
    }
   ],
   "source": [
    "# Abstaraction\n",
    "\n",
    "class Student:\n",
    "    def __init__(self,name,marks):\n",
    "        self.name = name\n",
    "        self.marks = marks\n",
    "\n",
    "    def get_avg(self):\n",
    "        # return sum(self.marks)/len(self.marks)\n",
    "        sum = 0\n",
    "        for val in self.marks:\n",
    "            sum = sum + val\n",
    "        print(\"hi\",self.name, \"your average mark is=\",sum/3)\n",
    "        \n",
    "s1=Student(\"Sabilar\",[50,60,70])\n",
    "s1.get_avg()"
   ]
  },
  {
   "cell_type": "markdown",
   "metadata": {},
   "source": [
    "Encapsulation"
   ]
  },
  {
   "cell_type": "code",
   "execution_count": 23,
   "metadata": {},
   "outputs": [
    {
     "name": "stdout",
     "output_type": "stream",
     "text": [
      "BDT Amount Debit : 1000\n",
      "Total balance: 9000\n",
      "BDT Amount Credit : 500\n",
      "Total balance: 9500\n",
      "BDT Amount Credit : 8000\n",
      "Total balance: 17500\n"
     ]
    }
   ],
   "source": [
    "# Encapsulation\n",
    "class Account:\n",
    "    def __init__(self,balance, account):\n",
    "        self.balance = balance\n",
    "        self.account = account\n",
    "    #debit method\n",
    "    def debit(self,amount):\n",
    "        self.balance = self.balance - amount\n",
    "        print(\"BDT Amount Debit :\",amount)\n",
    "        print(\"Total balance:\",self.final_balance())\n",
    "\n",
    "    #credit method\n",
    "    def credit(self,amount):\n",
    "        self.balance = self.balance + amount\n",
    "        print(\"BDT Amount Credit :\",amount)\n",
    "        print(\"Total balance:\",self.final_balance())\n",
    "        \n",
    "    #final balance\n",
    "    def final_balance(self):\n",
    "        return self.balance\n",
    "    \n",
    "acc1 = Account(10000,12345)\n",
    "acc1.debit(1000)\n",
    "acc1.credit(500)\n",
    "acc1.credit(8000)"
   ]
  }
 ],
 "metadata": {
  "kernelspec": {
   "display_name": "Python 3",
   "language": "python",
   "name": "python3"
  },
  "language_info": {
   "codemirror_mode": {
    "name": "ipython",
    "version": 3
   },
   "file_extension": ".py",
   "mimetype": "text/x-python",
   "name": "python",
   "nbconvert_exporter": "python",
   "pygments_lexer": "ipython3",
   "version": "3.13.2"
  }
 },
 "nbformat": 4,
 "nbformat_minor": 2
}
