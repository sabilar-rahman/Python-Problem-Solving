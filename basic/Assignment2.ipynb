{
 "cells": [
  {
   "cell_type": "markdown",
   "metadata": {},
   "source": [
    "Second challenge \n",
    "\n",
    "-create 3 different item variable\n",
    "-concatinate the items into a single print statement \n",
    "-utilize the f string\n",
    "-example : for my birthday i want a guiter, keyboard and microphone"
   ]
  },
  {
   "cell_type": "code",
   "execution_count": 1,
   "metadata": {},
   "outputs": [
    {
     "name": "stdout",
     "output_type": "stream",
     "text": [
      "For my Birthday i want a ps5, a car and a iphone.\n"
     ]
    }
   ],
   "source": [
    "gift1= input(\"What is your first gift? \")\n",
    "gift2= input(\"What is your second gift? \")\n",
    "gift3= input(\"What is your third gift? \")\n",
    "\n",
    "print(\"For my Birthday i want a \" + gift1 + \", a \" + gift2 + \" and a \" + gift3 + \".\")\n",
    "\n"
   ]
  }
 ],
 "metadata": {
  "kernelspec": {
   "display_name": "Python 3",
   "language": "python",
   "name": "python3"
  },
  "language_info": {
   "codemirror_mode": {
    "name": "ipython",
    "version": 3
   },
   "file_extension": ".py",
   "mimetype": "text/x-python",
   "name": "python",
   "nbconvert_exporter": "python",
   "pygments_lexer": "ipython3",
   "version": "3.13.2"
  }
 },
 "nbformat": 4,
 "nbformat_minor": 2
}
