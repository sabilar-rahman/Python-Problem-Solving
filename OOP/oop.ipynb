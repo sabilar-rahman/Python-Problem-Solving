{
 "cells": [
  {
   "cell_type": "code",
   "execution_count": 3,
   "metadata": {},
   "outputs": [
    {
     "name": "stdout",
     "output_type": "stream",
     "text": [
      "Roll:3609,GPA :3.39\n"
     ]
    }
   ],
   "source": [
    "class Student:\n",
    "    roll:\"\"\n",
    "    gpa:\"\"\n",
    "\n",
    "sabilar=Student()\n",
    "sabilar.gpa=3.39\n",
    "sabilar.roll=3609\n",
    "\n",
    "print(f\"Roll:{sabilar.roll},GPA :{sabilar.gpa}\")\n"
   ]
  },
  {
   "cell_type": "markdown",
   "metadata": {},
   "source": [
    "Methods"
   ]
  },
  {
   "cell_type": "code",
   "execution_count": 1,
   "metadata": {},
   "outputs": [
    {
     "name": "stdout",
     "output_type": "stream",
     "text": [
      "Roll:3609, gpa:3609\n"
     ]
    }
   ],
   "source": [
    "class Student:\n",
    "    roll:\"\"\n",
    "    gpa:\"\"\n",
    "\n",
    "    def setValue (self, roll,gpa):\n",
    "        self.roll =roll\n",
    "        self.gpa = gpa\n",
    "\n",
    "    def display(self):\n",
    "        print(f\"Roll:{self.roll}, gpa:{self.roll}\")\n",
    "\n",
    "sabilar=Student()\n",
    "sabilar.setValue(3609,3.36)\n",
    "sabilar.display()\n"
   ]
  },
  {
   "cell_type": "code",
   "execution_count": 6,
   "metadata": {},
   "outputs": [
    {
     "name": "stdout",
     "output_type": "stream",
     "text": [
      "Roll: 3609, GPA: 3.36\n"
     ]
    }
   ],
   "source": [
    "class Student:\n",
    "    def __init__(self, roll, gpa):# constructor , object value set kora hoy\n",
    "        self.roll = roll\n",
    "        self.gpa = gpa\n",
    "\n",
    "    def display(self):\n",
    "        print(f\"Roll: {self.roll}, GPA: {self.gpa}\")\n",
    "\n",
    "sabilar = Student(3609, 3.36)\n",
    "sabilar.display()\n"
   ]
  },
  {
   "cell_type": "markdown",
   "metadata": {},
   "source": [
    "practice"
   ]
  },
  {
   "cell_type": "code",
   "execution_count": 9,
   "metadata": {},
   "outputs": [
    {
     "name": "stdout",
     "output_type": "stream",
     "text": [
      "Area= 25.0\n"
     ]
    }
   ],
   "source": [
    "class Triangle:\n",
    "    def __init__(self, base, height):\n",
    "        self.base = base\n",
    "        self.height = height\n",
    "\n",
    "    def calculate_area(self):\n",
    "        area = 0.5 * self.base * self.height\n",
    "        print(f\"Area=\",area)\n",
    "\n",
    "t1 = Triangle(10,5)\n",
    "t1.calculate_area()"
   ]
  },
  {
   "cell_type": "markdown",
   "metadata": {},
   "source": [
    "Inheritance = একটি ক্লাস এর বৈশিষ্ট অন্য একটি ক্লাস এ নিয়ে আসা হয় "
   ]
  },
  {
   "cell_type": "code",
   "execution_count": 14,
   "metadata": {},
   "outputs": [
    {
     "name": "stdout",
     "output_type": "stream",
     "text": [
      "you can message here\n"
     ]
    }
   ],
   "source": [
    "class Phone:\n",
    "    def call(self):\n",
    "        print(\"you can call\")\n",
    "\n",
    "    def message(self):\n",
    "        print(\"you can message here\")\n",
    "    \n",
    "class Samsung(Phone):\n",
    "    def photo(self):\n",
    "        print(\"you can take photo\")\n",
    "\n",
    "\n",
    "p =Samsung()\n",
    "p.message()"
   ]
  },
  {
   "cell_type": "code",
   "execution_count": 2,
   "metadata": {},
   "outputs": [
    {
     "name": "stdout",
     "output_type": "stream",
     "text": [
      "Tesla Model S\n"
     ]
    }
   ],
   "source": [
    "class Car:\n",
    "    def __init__(self,userBrand, userModel):\n",
    "        self.brand = userBrand\n",
    "        self.model = userModel\n",
    "\n",
    "    def full_name(self):\n",
    "        return f\"{self.brand} {self.model}\"\n",
    "    \n",
    "\n",
    "class ElectricCar(Car):\n",
    "    def __init__(self,brand, model,battery_size):\n",
    "        super().__init__(brand,model)\n",
    "        self.battery_size = battery_size\n",
    "\n",
    "\n",
    "my_car = ElectricCar(\"Tesla\",\"Model S\",\"85kwH\")\n",
    "print(my_car.full_name())"
   ]
  },
  {
   "cell_type": "markdown",
   "metadata": {},
   "source": [
    "Method Overriding"
   ]
  },
  {
   "cell_type": "code",
   "execution_count": 17,
   "metadata": {},
   "outputs": [
    {
     "name": "stdout",
     "output_type": "stream",
     "text": [
      "I am phone class\n",
      "I am Samsung class\n"
     ]
    }
   ],
   "source": [
    "class Phone:\n",
    "   def __init__(self):\n",
    "       print(\"I am phone class\")\n",
    "    \n",
    "class Samsung(Phone):\n",
    "     def __init__(self):\n",
    "       super().__init__()\n",
    "       print(\"I am Samsung class\")\n",
    "\n",
    "\n",
    "s= Samsung()"
   ]
  },
  {
   "cell_type": "markdown",
   "metadata": {},
   "source": [
    "Multileve Inheritance"
   ]
  },
  {
   "cell_type": "code",
   "execution_count": 26,
   "metadata": {},
   "outputs": [
    {
     "name": "stdout",
     "output_type": "stream",
     "text": [
      "Class A\n"
     ]
    }
   ],
   "source": [
    "class A:\n",
    "    def display(self):\n",
    "        print(\"Class A\")\n",
    "\n",
    "class B:\n",
    "    def display(self):\n",
    "        print(\"Class B\")\n",
    "\n",
    "class C(A,B):\n",
    "    \n",
    "    pass\n",
    "\n",
    "c= C()\n",
    "c.display()\n"
   ]
  },
  {
   "cell_type": "markdown",
   "metadata": {},
   "source": [
    " Abstraction"
   ]
  },
  {
   "cell_type": "code",
   "execution_count": 27,
   "metadata": {},
   "outputs": [
    {
     "name": "stdout",
     "output_type": "stream",
     "text": [
      "Woof! Woof!\n",
      "Meow!\n"
     ]
    }
   ],
   "source": [
    "from abc import ABC, abstractmethod\n",
    "\n",
    "# Abstract Base Class\n",
    "class Animal(ABC):\n",
    "    \n",
    "    @abstractmethod\n",
    "    def make_sound(self):\n",
    "        \"\"\"Abstract method that must be implemented by subclasses\"\"\"\n",
    "        pass\n",
    "\n",
    "# Subclass that implements the abstract method\n",
    "class Dog(Animal):\n",
    "    def make_sound(self):\n",
    "        return \"Woof! Woof!\"\n",
    "\n",
    "class Cat(Animal):\n",
    "    def make_sound(self):\n",
    "        return \"Meow!\"\n",
    "\n",
    "# Trying to instantiate `Animal` directly will raise an error\n",
    "# animal = Animal()  # ❌ TypeError: Can't instantiate abstract class Animal\n",
    "\n",
    "dog = Dog()\n",
    "print(dog.make_sound())  # ✅ Output: Woof! Woof!\n",
    "\n",
    "cat = Cat()\n",
    "print(cat.make_sound())  # ✅ Output: Meow!\n"
   ]
  },
  {
   "cell_type": "markdown",
   "metadata": {},
   "source": [
    "Polymorphism"
   ]
  },
  {
   "cell_type": "code",
   "execution_count": 28,
   "metadata": {},
   "outputs": [
    {
     "name": "stdout",
     "output_type": "stream",
     "text": [
      "Woof! Woof!\n",
      "Meow!\n",
      "Some generic sound\n"
     ]
    }
   ],
   "source": [
    "class Animal:\n",
    "    def make_sound(self):\n",
    "        return \"Some generic sound\"\n",
    "\n",
    "class Dog(Animal):\n",
    "    def make_sound(self):  # Overriding the parent method\n",
    "        return \"Woof! Woof!\"\n",
    "\n",
    "class Cat(Animal):\n",
    "    def make_sound(self):\n",
    "        return \"Meow!\"\n",
    "\n",
    "# Creating objects of subclasses\n",
    "animals = [Dog(), Cat(), Animal()]\n",
    "\n",
    "for animal in animals:\n",
    "    print(animal.make_sound())  \n"
   ]
  },
  {
   "cell_type": "code",
   "execution_count": 29,
   "metadata": {},
   "outputs": [
    {
     "name": "stdout",
     "output_type": "stream",
     "text": [
      "15\n",
      "35\n"
     ]
    }
   ],
   "source": [
    "class Calculator:\n",
    "    def add(self, a, b, c=0):  # ডিফল্ট ভ্যালু ব্যবহার করে ওভারলোডিং সিমুলেট করা\n",
    "        return a + b + c\n",
    "\n",
    "calc = Calculator()\n",
    "print(calc.add(5, 10))    # আউটপুট: 15\n",
    "print(calc.add(5, 10, 20)) # আউটপুট: 35\n"
   ]
  }
 ],
 "metadata": {
  "kernelspec": {
   "display_name": "Python 3",
   "language": "python",
   "name": "python3"
  },
  "language_info": {
   "codemirror_mode": {
    "name": "ipython",
    "version": 3
   },
   "file_extension": ".py",
   "mimetype": "text/x-python",
   "name": "python",
   "nbconvert_exporter": "python",
   "pygments_lexer": "ipython3",
   "version": "3.13.2"
  }
 },
 "nbformat": 4,
 "nbformat_minor": 2
}
