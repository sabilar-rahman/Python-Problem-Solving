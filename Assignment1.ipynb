{
 "cells": [
  {
   "cell_type": "markdown",
   "metadata": {},
   "source": [
    "First challenge \n",
    "\n",
    "-create a variable bank_account\n",
    "-create three more item (name them whatever i like)\n",
    "-Assign price\n",
    "-subtract each price from your bank account"
   ]
  },
  {
   "cell_type": "code",
   "execution_count": 8,
   "metadata": {},
   "outputs": [
    {
     "name": "stdout",
     "output_type": "stream",
     "text": [
      "42\n"
     ]
    }
   ],
   "source": [
    "bank_account = 100\n",
    "\n",
    "paper_towel = 5\n",
    "water =3\n",
    "video_game = 50\n",
    "#subtract each price from your bank account\n",
    "# bank_account = bank_account - paper_towel \n",
    "# bank_account = bank_account - water\n",
    "# bank_account = bank_account - video_game\n",
    "\n",
    "# bank_account -= paper_towel\n",
    "# bank_account -= water\n",
    "# bank_account -= video_game  \n",
    "\n",
    "bank_account = bank_account - (paper_towel + water + video_game)\n",
    "\n",
    "print(bank_account)\n"
   ]
  }
 ],
 "metadata": {
  "kernelspec": {
   "display_name": "Python 3",
   "language": "python",
   "name": "python3"
  },
  "language_info": {
   "codemirror_mode": {
    "name": "ipython",
    "version": 3
   },
   "file_extension": ".py",
   "mimetype": "text/x-python",
   "name": "python",
   "nbconvert_exporter": "python",
   "pygments_lexer": "ipython3",
   "version": "3.13.2"
  }
 },
 "nbformat": 4,
 "nbformat_minor": 2
}
